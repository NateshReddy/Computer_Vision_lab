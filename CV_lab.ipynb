{
  "nbformat": 4,
  "nbformat_minor": 0,
  "metadata": {
    "colab": {
      "name": "CV_lab",
      "provenance": [],
      "toc_visible": true,
      "mount_file_id": "1LKqF-bUli04NtNhHDq4upHPBtmpPuXHT",
      "authorship_tag": "ABX9TyOKqIV6e0DAJv+BxD0oQC5W",
      "include_colab_link": true
    },
    "kernelspec": {
      "name": "python3",
      "display_name": "Python 3"
    }
  },
  "cells": [
    {
      "cell_type": "markdown",
      "metadata": {
        "id": "view-in-github",
        "colab_type": "text"
      },
      "source": [
        "<a href=\"https://colab.research.google.com/github/NateshReddy/Computer_Vision_lab/blob/main/CV_lab.ipynb\" target=\"_parent\"><img src=\"https://colab.research.google.com/assets/colab-badge.svg\" alt=\"Open In Colab\"/></a>"
      ]
    },
    {
      "cell_type": "code",
      "metadata": {
        "colab": {
          "base_uri": "https://localhost:8080/"
        },
        "id": "qiuj2wqCOvxb",
        "outputId": "8c20ff09-fde3-4998-ee47-28374d9eb284"
      },
      "source": [
        "!ls"
      ],
      "execution_count": 3,
      "outputs": [
        {
          "output_type": "stream",
          "text": [
            "'8th sem'\t   Classroom\t     'FYP Discussions.gdoc'\n",
            " BT17CSE038.gdoc  'Colab Notebooks'  'Internship Report - Front Page.gdoc'\n",
            " BT17CSE038.pdf   'DCS Lab.gdoc'      Project\n"
          ],
          "name": "stdout"
        }
      ]
    },
    {
      "cell_type": "code",
      "metadata": {
        "id": "HL2GOw5DQ4Hs"
      },
      "source": [
        "import os\n",
        "os.chdir(\"/content/drive/MyDrive\")"
      ],
      "execution_count": 2,
      "outputs": []
    },
    {
      "cell_type": "code",
      "metadata": {
        "colab": {
          "base_uri": "https://localhost:8080/"
        },
        "id": "FjfQJGdkRAqL",
        "outputId": "10d02f9f-52ad-4e72-e3e8-cfe3452c21dd"
      },
      "source": [
        "# Clone github repository setup\n",
        "# import join used to join ROOT path and MY_GOOGLE_DRIVE_PATH\n",
        "from os.path import join  \n",
        "\n",
        "# path to your project on Google Drive\n",
        "MY_GOOGLE_DRIVE_PATH = '/content/drive/MyDrive/8th sem/CV_Lab' \n",
        "# replace with your Github username \n",
        "GIT_USERNAME = \"NateshReddy\" \n",
        "# definitely replace with your\n",
        "GIT_TOKEN = \"{8a84f7d4d70855e803726677d5755b9bd05f9b85}\"  \n",
        "# Replace with your github repository in this case we want \n",
        "# to clone deep-learning-v2-pytorch repository\n",
        "GIT_REPOSITORY = \"Computer_Vision_lab\" \n",
        "\n",
        "PROJECT_PATH = join(MY_GOOGLE_DRIVE_PATH)\n",
        "\n",
        "# It's good to print out the value if you are not sure \n",
        "print(\"PROJECT_PATH: \", PROJECT_PATH)   \n",
        "\n",
        "# In case we haven't created the folder already; we will create a folder in the project path \n",
        "!mkdir \"{PROJECT_PATH}\"    \n",
        "\n",
        "#GIT_PATH = \"https://{GIT_TOKEN}@github.com/{GIT_USERNAME}/{GIT_REPOSITORY}.git\" this return 400 Bad Request for me\n",
        "GIT_PATH = \"https://\" + GIT_TOKEN + \"@github.com/\" + GIT_USERNAME + \"/\" + GIT_REPOSITORY + \".git\"\n",
        "print(\"GIT_PATH: \", GIT_PATH)"
      ],
      "execution_count": 8,
      "outputs": [
        {
          "output_type": "stream",
          "text": [
            "PROJECT_PATH:  /content/drive/MyDrive/8th sem/CV_Lab\n",
            "GIT_PATH:  https://{8a84f7d4d70855e803726677d5755b9bd05f9b85}@github.com/NateshReddy/Computer_Vision_lab.git\n"
          ],
          "name": "stdout"
        }
      ]
    },
    {
      "cell_type": "code",
      "metadata": {
        "colab": {
          "base_uri": "https://localhost:8080/"
        },
        "id": "32fp-i6oSVqW",
        "outputId": "a1f6fc11-79cd-437d-95a1-7e7bd37e8c1a"
      },
      "source": [
        "%cd \"/content/drive/MyDrive/8th sem/CV_Lab\"\n",
        "!git clone \"https://{8a84f7d4d70855e803726677d5755b9bd05f9b85}@github.com/NateshReddy/Computer_Vision_lab.git\""
      ],
      "execution_count": 9,
      "outputs": [
        {
          "output_type": "stream",
          "text": [
            "/content/drive/MyDrive/8th sem/CV_Lab\n",
            "Cloning into 'Computer_Vision_lab'...\n",
            "remote: Enumerating objects: 3, done.\u001b[K\n",
            "remote: Counting objects: 100% (3/3), done.\u001b[K\n",
            "remote: Total 3 (delta 0), reused 0 (delta 0), pack-reused 0\u001b[K\n",
            "Unpacking objects: 100% (3/3), done.\n"
          ],
          "name": "stdout"
        }
      ]
    },
    {
      "cell_type": "code",
      "metadata": {
        "id": "ysUFUBJpS8oR"
      },
      "source": [
        ""
      ],
      "execution_count": null,
      "outputs": []
    }
  ]
}